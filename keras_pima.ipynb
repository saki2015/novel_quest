{
 "cells": [
  {
   "cell_type": "markdown",
   "metadata": {},
   "source": [
    "Diabetes dataset:\n",
    "* Used an Artificial Neural Network (ANN) to predict diabetes progression in 1 year\n",
    "* use keras.predict_classes() for classification prediction\n",
    "* Use keras.predict_proba() for roc_curve() to get fpr, tpr, thresholds\n",
    "\n",
    "* When you plot the ROC curve, you can 'annotate' with threshold info;\n",
    "so you can read the threshold for a given fpr, tpr\n",
    "\n",
    "* use confusion_matrix.ravel() to get the tn,fp, fp, tp values for BINARY classification\n",
    "\n",
    "* Use np.where() to convert y (quantitative values) to classes (0,1)\n",
    "* Do scaling before the test/train split to avoid scaling multiple times\n",
    "\n",
    "* Use model.summary() to get details of the layers\n",
    "\n",
    "* Use median value to balance the dataset\n",
    "\n",
    "* Accuracy dropped after dataset balanced ???"
   ]
  },
  {
   "cell_type": "code",
   "execution_count": 88,
   "metadata": {},
   "outputs": [],
   "source": [
    "import keras\n",
    "from keras.models  import (Sequential)\n",
    "from keras.layers import (Dense, Activation)\n",
    "from sklearn.model_selection import train_test_split\n",
    "from sklearn.datasets import (load_diabetes)\n",
    "import numpy as np\n",
    "from sklearn.preprocessing import StandardScaler, MinMaxScaler\n",
    "from sklearn.metrics import confusion_matrix\n",
    "import matplotlib.pyplot as plt\n",
    "import seaborn as sns\n",
    "sns.set()"
   ]
  },
  {
   "cell_type": "code",
   "execution_count": 118,
   "metadata": {},
   "outputs": [],
   "source": [
    "def convert_to_classes(y_scaled, median_val):\n",
    "    y_mod = np.where(y_scaled>median_val, 1, 0)\n",
    "\n",
    "    np.sum(y_mod), np.size(y_mod)\n",
    "    true_percent = np.sum(y_mod)/np.size(y_mod)\n",
    "    print(true_percent)\n",
    "    if true_percent < 0.45 or true_percent > 0.55:\n",
    "        print('Unbalanced dataset')\n",
    "    else:\n",
    "        print('Balanced Dataset')\n",
    "        \n",
    "    return y_mod"
   ]
  },
  {
   "cell_type": "code",
   "execution_count": 119,
   "metadata": {},
   "outputs": [],
   "source": [
    "dataset = load_diabetes()\n",
    "\n",
    "X = dataset.data\n",
    "y = dataset.target\n",
    "y = np.reshape(y, (-1,1))\n",
    "\n",
    "# Translate the target values ( y) from a quantitave measure to \n",
    "# classes (0/1) by using a threshold of 0.5 to decide patient has \n",
    "# diabetes\n",
    "y_scaler = MinMaxScaler()\n",
    "y_scaled = y_scaler.fit_transform(y)\n"
   ]
  },
  {
   "cell_type": "code",
   "execution_count": 121,
   "metadata": {},
   "outputs": [
    {
     "name": "stdout",
     "output_type": "stream",
     "text": [
      "0.3257918552036199\n",
      "Unbalanced dataset\n"
     ]
    }
   ],
   "source": [
    "y_mod = convert_to_classes(y_scaled, 0.5)"
   ]
  },
  {
   "cell_type": "code",
   "execution_count": 122,
   "metadata": {},
   "outputs": [
    {
     "name": "stdout",
     "output_type": "stream",
     "text": [
      "Median value: 0.36\n",
      "0.5\n",
      "Balanced Dataset\n"
     ]
    }
   ],
   "source": [
    "#Balance the dataset by using the median value to create classes\n",
    "median = np.median(y_scaled)\n",
    "print('Median value: {:.2f}'.format(median))\n",
    "y_mod = convert_to_classes(y_scaled, median)"
   ]
  },
  {
   "cell_type": "code",
   "execution_count": 123,
   "metadata": {},
   "outputs": [
    {
     "name": "stdout",
     "output_type": "stream",
     "text": [
      "feature_names: ['age', 'sex', 'bmi', 'bp', 's1', 's2', 's3', 's4', 's5', 's6']\n"
     ]
    }
   ],
   "source": [
    "feature_names = list(dataset.feature_names)\n",
    "print('feature_names: {0}'.format(feature_names))\n",
    "X_train, X_test, y_train, y_test = train_test_split(X, y_mod, test_size = 0.3, random_state = 0)\n",
    "  "
   ]
  },
  {
   "cell_type": "code",
   "execution_count": 124,
   "metadata": {},
   "outputs": [
    {
     "data": {
      "text/plain": [
       "((309, 1), (309, 10))"
      ]
     },
     "execution_count": 124,
     "metadata": {},
     "output_type": "execute_result"
    }
   ],
   "source": [
    "y_train.shape, X_train.shape"
   ]
  },
  {
   "cell_type": "code",
   "execution_count": 125,
   "metadata": {},
   "outputs": [
    {
     "data": {
      "text/plain": [
       "(0.198787989657293, -0.137767225690012)"
      ]
     },
     "execution_count": 125,
     "metadata": {},
     "output_type": "execute_result"
    }
   ],
   "source": [
    "np.max(X), np.min(X)"
   ]
  },
  {
   "cell_type": "code",
   "execution_count": 126,
   "metadata": {},
   "outputs": [
    {
     "data": {
      "text/plain": [
       "(1, 0)"
      ]
     },
     "execution_count": 126,
     "metadata": {},
     "output_type": "execute_result"
    }
   ],
   "source": [
    "np.max(y_train), np.min(y_train)"
   ]
  },
  {
   "cell_type": "code",
   "execution_count": 127,
   "metadata": {},
   "outputs": [
    {
     "data": {
      "text/plain": [
       "(1, 0)"
      ]
     },
     "execution_count": 127,
     "metadata": {},
     "output_type": "execute_result"
    }
   ],
   "source": [
    "np.max(y_test), np.min(y_test)\n",
    "#y_test\n"
   ]
  },
  {
   "cell_type": "code",
   "execution_count": 128,
   "metadata": {},
   "outputs": [
    {
     "data": {
      "text/plain": [
       "(133, 1)"
      ]
     },
     "execution_count": 128,
     "metadata": {},
     "output_type": "execute_result"
    }
   ],
   "source": [
    "#y_train=np.reshape(y_train, (-1, 1))\n",
    "y_test.shape"
   ]
  },
  {
   "cell_type": "code",
   "execution_count": 129,
   "metadata": {},
   "outputs": [
    {
     "name": "stdout",
     "output_type": "stream",
     "text": [
      "_________________________________________________________________\n",
      "Layer (type)                 Output Shape              Param #   \n",
      "=================================================================\n",
      "dense_7 (Dense)              (None, 20)                220       \n",
      "_________________________________________________________________\n",
      "dense_8 (Dense)              (None, 32)                672       \n",
      "_________________________________________________________________\n",
      "dense_9 (Dense)              (None, 1)                 33        \n",
      "=================================================================\n",
      "Total params: 925\n",
      "Trainable params: 925\n",
      "Non-trainable params: 0\n",
      "_________________________________________________________________\n"
     ]
    }
   ],
   "source": [
    "ann_model = Sequential()\n",
    "ann_model.add(Dense(20, input_dim=(10),activation='relu'))\n",
    "ann_model.add(Dense(32, activation='relu'))\n",
    "ann_model.add(Dense(1, activation='sigmoid'))\n",
    "ann_model.summary()"
   ]
  },
  {
   "cell_type": "code",
   "execution_count": 130,
   "metadata": {},
   "outputs": [],
   "source": [
    "#Configure the model for training by setting the objective function & the optimizer\n",
    "ann_model.compile(optimizer='adam', loss='binary_crossentropy', metrics=['accuracy'])"
   ]
  },
  {
   "cell_type": "code",
   "execution_count": 131,
   "metadata": {},
   "outputs": [
    {
     "name": "stdout",
     "output_type": "stream",
     "text": [
      "Train on 247 samples, validate on 62 samples\n",
      "Epoch 1/100\n",
      " - 1s - loss: 0.6888 - acc: 0.5587 - val_loss: 0.6815 - val_acc: 0.6452\n",
      "Epoch 2/100\n",
      " - 0s - loss: 0.6717 - acc: 0.7287 - val_loss: 0.6620 - val_acc: 0.6935\n",
      "Epoch 3/100\n",
      " - 0s - loss: 0.6456 - acc: 0.7166 - val_loss: 0.6306 - val_acc: 0.7419\n",
      "Epoch 4/100\n",
      " - 0s - loss: 0.6122 - acc: 0.7328 - val_loss: 0.5920 - val_acc: 0.7097\n",
      "Epoch 5/100\n",
      " - 0s - loss: 0.5816 - acc: 0.7368 - val_loss: 0.5709 - val_acc: 0.7258\n",
      "Epoch 6/100\n",
      " - 0s - loss: 0.5512 - acc: 0.7287 - val_loss: 0.5415 - val_acc: 0.7419\n",
      "Epoch 7/100\n",
      " - 0s - loss: 0.5249 - acc: 0.7490 - val_loss: 0.5244 - val_acc: 0.7581\n",
      "Epoch 8/100\n",
      " - 0s - loss: 0.5093 - acc: 0.7368 - val_loss: 0.5131 - val_acc: 0.7581\n",
      "Epoch 9/100\n",
      " - 0s - loss: 0.4970 - acc: 0.7571 - val_loss: 0.4978 - val_acc: 0.7742\n",
      "Epoch 10/100\n",
      " - 0s - loss: 0.4905 - acc: 0.7652 - val_loss: 0.4921 - val_acc: 0.7742\n",
      "Epoch 11/100\n",
      " - 0s - loss: 0.4825 - acc: 0.7692 - val_loss: 0.4869 - val_acc: 0.7903\n",
      "Epoch 12/100\n",
      " - 0s - loss: 0.4752 - acc: 0.7692 - val_loss: 0.4918 - val_acc: 0.7581\n",
      "Epoch 13/100\n",
      " - 0s - loss: 0.4721 - acc: 0.7611 - val_loss: 0.4807 - val_acc: 0.7742\n",
      "Epoch 14/100\n",
      " - 0s - loss: 0.4716 - acc: 0.7652 - val_loss: 0.4798 - val_acc: 0.7742\n",
      "Epoch 15/100\n",
      " - 0s - loss: 0.4637 - acc: 0.7814 - val_loss: 0.4785 - val_acc: 0.7581\n",
      "Epoch 16/100\n",
      " - 0s - loss: 0.4610 - acc: 0.7854 - val_loss: 0.4844 - val_acc: 0.7581\n",
      "Epoch 17/100\n",
      " - 0s - loss: 0.4591 - acc: 0.7652 - val_loss: 0.4773 - val_acc: 0.7581\n",
      "Epoch 18/100\n",
      " - 0s - loss: 0.4604 - acc: 0.7530 - val_loss: 0.4891 - val_acc: 0.7581\n",
      "Epoch 19/100\n",
      " - 0s - loss: 0.4584 - acc: 0.7733 - val_loss: 0.4842 - val_acc: 0.7419\n",
      "Epoch 20/100\n",
      " - 0s - loss: 0.4554 - acc: 0.7652 - val_loss: 0.4914 - val_acc: 0.7419\n",
      "Epoch 21/100\n",
      " - 0s - loss: 0.4522 - acc: 0.7652 - val_loss: 0.4804 - val_acc: 0.7419\n",
      "Epoch 22/100\n",
      " - 0s - loss: 0.4514 - acc: 0.7733 - val_loss: 0.4782 - val_acc: 0.7581\n",
      "Epoch 23/100\n",
      " - 0s - loss: 0.4523 - acc: 0.7692 - val_loss: 0.4788 - val_acc: 0.7419\n",
      "Epoch 24/100\n",
      " - 0s - loss: 0.4520 - acc: 0.7692 - val_loss: 0.4783 - val_acc: 0.7581\n",
      "Epoch 25/100\n",
      " - 0s - loss: 0.4490 - acc: 0.7733 - val_loss: 0.4756 - val_acc: 0.7419\n",
      "Epoch 26/100\n",
      " - 0s - loss: 0.4455 - acc: 0.7733 - val_loss: 0.4868 - val_acc: 0.7258\n",
      "Epoch 27/100\n",
      " - 0s - loss: 0.4454 - acc: 0.7733 - val_loss: 0.4849 - val_acc: 0.7258\n",
      "Epoch 28/100\n",
      " - 0s - loss: 0.4436 - acc: 0.7652 - val_loss: 0.4810 - val_acc: 0.7419\n",
      "Epoch 29/100\n",
      " - 0s - loss: 0.4473 - acc: 0.7652 - val_loss: 0.4837 - val_acc: 0.7258\n",
      "Epoch 30/100\n",
      " - 0s - loss: 0.4480 - acc: 0.7652 - val_loss: 0.4887 - val_acc: 0.7258\n",
      "Epoch 31/100\n",
      " - 0s - loss: 0.4422 - acc: 0.7814 - val_loss: 0.4823 - val_acc: 0.7419\n",
      "Epoch 32/100\n",
      " - 0s - loss: 0.4431 - acc: 0.7652 - val_loss: 0.4794 - val_acc: 0.7258\n",
      "Epoch 33/100\n",
      " - 0s - loss: 0.4413 - acc: 0.7652 - val_loss: 0.4746 - val_acc: 0.7419\n",
      "Epoch 34/100\n",
      " - 0s - loss: 0.4413 - acc: 0.7652 - val_loss: 0.4747 - val_acc: 0.7419\n",
      "Epoch 35/100\n",
      " - 0s - loss: 0.4368 - acc: 0.7692 - val_loss: 0.4925 - val_acc: 0.7258\n",
      "Epoch 36/100\n",
      " - 0s - loss: 0.4395 - acc: 0.7773 - val_loss: 0.4882 - val_acc: 0.7258\n",
      "Epoch 37/100\n",
      " - 0s - loss: 0.4377 - acc: 0.7733 - val_loss: 0.4897 - val_acc: 0.7258\n",
      "Epoch 38/100\n",
      " - 0s - loss: 0.4420 - acc: 0.7692 - val_loss: 0.4922 - val_acc: 0.7258\n",
      "Epoch 39/100\n",
      " - 0s - loss: 0.4400 - acc: 0.7814 - val_loss: 0.4892 - val_acc: 0.7258\n",
      "Epoch 40/100\n",
      " - 0s - loss: 0.4358 - acc: 0.7652 - val_loss: 0.4947 - val_acc: 0.7258\n",
      "Epoch 41/100\n",
      " - 0s - loss: 0.4335 - acc: 0.7814 - val_loss: 0.4818 - val_acc: 0.7258\n",
      "Epoch 42/100\n",
      " - 0s - loss: 0.4359 - acc: 0.7773 - val_loss: 0.4742 - val_acc: 0.7581\n",
      "Epoch 43/100\n",
      " - 0s - loss: 0.4360 - acc: 0.7854 - val_loss: 0.4764 - val_acc: 0.7419\n",
      "Epoch 44/100\n",
      " - 0s - loss: 0.4336 - acc: 0.7692 - val_loss: 0.4906 - val_acc: 0.7419\n",
      "Epoch 45/100\n",
      " - 0s - loss: 0.4313 - acc: 0.7854 - val_loss: 0.4939 - val_acc: 0.7419\n",
      "Epoch 46/100\n",
      " - 0s - loss: 0.4311 - acc: 0.7773 - val_loss: 0.4787 - val_acc: 0.7258\n",
      "Epoch 47/100\n",
      " - 0s - loss: 0.4317 - acc: 0.7854 - val_loss: 0.4781 - val_acc: 0.7419\n",
      "Epoch 48/100\n",
      " - 0s - loss: 0.4308 - acc: 0.7773 - val_loss: 0.4882 - val_acc: 0.7419\n",
      "Epoch 49/100\n",
      " - 0s - loss: 0.4273 - acc: 0.7814 - val_loss: 0.4936 - val_acc: 0.7419\n",
      "Epoch 50/100\n",
      " - 0s - loss: 0.4285 - acc: 0.7733 - val_loss: 0.4979 - val_acc: 0.7419\n",
      "Epoch 51/100\n",
      " - 0s - loss: 0.4370 - acc: 0.7773 - val_loss: 0.5093 - val_acc: 0.7419\n",
      "Epoch 52/100\n",
      " - 0s - loss: 0.4215 - acc: 0.7935 - val_loss: 0.4835 - val_acc: 0.7258\n",
      "Epoch 53/100\n",
      " - 0s - loss: 0.4205 - acc: 0.7895 - val_loss: 0.4997 - val_acc: 0.7581\n",
      "Epoch 54/100\n",
      " - 0s - loss: 0.4210 - acc: 0.7854 - val_loss: 0.4934 - val_acc: 0.7581\n",
      "Epoch 55/100\n",
      " - 0s - loss: 0.4204 - acc: 0.7814 - val_loss: 0.4947 - val_acc: 0.7581\n",
      "Epoch 56/100\n",
      " - 0s - loss: 0.4205 - acc: 0.7854 - val_loss: 0.4919 - val_acc: 0.7581\n",
      "Epoch 57/100\n",
      " - 0s - loss: 0.4198 - acc: 0.7976 - val_loss: 0.4837 - val_acc: 0.7581\n",
      "Epoch 58/100\n",
      " - 0s - loss: 0.4242 - acc: 0.7814 - val_loss: 0.4879 - val_acc: 0.7258\n",
      "Epoch 59/100\n",
      " - 0s - loss: 0.4205 - acc: 0.7976 - val_loss: 0.5082 - val_acc: 0.7581\n",
      "Epoch 60/100\n",
      " - 0s - loss: 0.4162 - acc: 0.7854 - val_loss: 0.4979 - val_acc: 0.7581\n",
      "Epoch 61/100\n",
      " - 0s - loss: 0.4144 - acc: 0.7895 - val_loss: 0.4962 - val_acc: 0.7419\n",
      "Epoch 62/100\n",
      " - 0s - loss: 0.4169 - acc: 0.7935 - val_loss: 0.5039 - val_acc: 0.7419\n",
      "Epoch 63/100\n",
      " - 0s - loss: 0.4135 - acc: 0.7935 - val_loss: 0.4874 - val_acc: 0.7258\n",
      "Epoch 64/100\n",
      " - 0s - loss: 0.4133 - acc: 0.7814 - val_loss: 0.5046 - val_acc: 0.7581\n",
      "Epoch 65/100\n",
      " - 0s - loss: 0.4139 - acc: 0.7976 - val_loss: 0.4946 - val_acc: 0.7258\n",
      "Epoch 66/100\n",
      " - 0s - loss: 0.4119 - acc: 0.7895 - val_loss: 0.4996 - val_acc: 0.7258\n",
      "Epoch 67/100\n",
      " - 0s - loss: 0.4141 - acc: 0.7773 - val_loss: 0.4990 - val_acc: 0.7258\n",
      "Epoch 68/100\n",
      " - 0s - loss: 0.4119 - acc: 0.7814 - val_loss: 0.5042 - val_acc: 0.7419\n",
      "Epoch 69/100\n",
      " - 0s - loss: 0.4101 - acc: 0.7895 - val_loss: 0.4949 - val_acc: 0.7419\n",
      "Epoch 70/100\n",
      " - 0s - loss: 0.4084 - acc: 0.7854 - val_loss: 0.5154 - val_acc: 0.7742\n",
      "Epoch 71/100\n",
      " - 0s - loss: 0.4135 - acc: 0.7814 - val_loss: 0.5033 - val_acc: 0.7419\n",
      "Epoch 72/100\n",
      " - 0s - loss: 0.4170 - acc: 0.7814 - val_loss: 0.5165 - val_acc: 0.7903\n",
      "Epoch 73/100\n",
      " - 0s - loss: 0.4102 - acc: 0.7895 - val_loss: 0.5165 - val_acc: 0.7903\n",
      "Epoch 74/100\n",
      " - 0s - loss: 0.4054 - acc: 0.7976 - val_loss: 0.5013 - val_acc: 0.7258\n",
      "Epoch 75/100\n",
      " - 0s - loss: 0.4036 - acc: 0.7895 - val_loss: 0.5050 - val_acc: 0.7258\n",
      "Epoch 76/100\n",
      " - 0s - loss: 0.4022 - acc: 0.7895 - val_loss: 0.5138 - val_acc: 0.7742\n",
      "Epoch 77/100\n",
      " - 0s - loss: 0.4027 - acc: 0.7935 - val_loss: 0.5167 - val_acc: 0.7742\n",
      "Epoch 78/100\n",
      " - 0s - loss: 0.4017 - acc: 0.7935 - val_loss: 0.5270 - val_acc: 0.7903\n",
      "Epoch 79/100\n",
      " - 0s - loss: 0.4023 - acc: 0.7935 - val_loss: 0.5146 - val_acc: 0.7742\n",
      "Epoch 80/100\n",
      " - 0s - loss: 0.4053 - acc: 0.7935 - val_loss: 0.5064 - val_acc: 0.7419\n",
      "Epoch 81/100\n",
      " - 0s - loss: 0.4007 - acc: 0.7935 - val_loss: 0.5136 - val_acc: 0.7581\n",
      "Epoch 82/100\n",
      " - 0s - loss: 0.3983 - acc: 0.7895 - val_loss: 0.5107 - val_acc: 0.7258\n",
      "Epoch 83/100\n",
      " - 0s - loss: 0.3982 - acc: 0.8057 - val_loss: 0.5272 - val_acc: 0.7742\n",
      "Epoch 84/100\n",
      " - 0s - loss: 0.4012 - acc: 0.7935 - val_loss: 0.5225 - val_acc: 0.7581\n",
      "Epoch 85/100\n",
      " - 0s - loss: 0.3983 - acc: 0.7976 - val_loss: 0.5342 - val_acc: 0.7903\n",
      "Epoch 86/100\n",
      " - 0s - loss: 0.3973 - acc: 0.7976 - val_loss: 0.5124 - val_acc: 0.7258\n",
      "Epoch 87/100\n",
      " - 0s - loss: 0.3977 - acc: 0.7814 - val_loss: 0.5241 - val_acc: 0.7581\n",
      "Epoch 88/100\n",
      " - 0s - loss: 0.3944 - acc: 0.7935 - val_loss: 0.5327 - val_acc: 0.7742\n",
      "Epoch 89/100\n",
      " - 0s - loss: 0.3952 - acc: 0.7976 - val_loss: 0.5189 - val_acc: 0.7581\n",
      "Epoch 90/100\n",
      " - 0s - loss: 0.3934 - acc: 0.7976 - val_loss: 0.5252 - val_acc: 0.7419\n",
      "Epoch 91/100\n",
      " - 0s - loss: 0.3915 - acc: 0.7895 - val_loss: 0.5225 - val_acc: 0.7581\n",
      "Epoch 92/100\n",
      " - 0s - loss: 0.3913 - acc: 0.7976 - val_loss: 0.5251 - val_acc: 0.7581\n",
      "Epoch 93/100\n",
      " - 0s - loss: 0.3933 - acc: 0.7976 - val_loss: 0.5361 - val_acc: 0.7742\n",
      "Epoch 94/100\n",
      " - 0s - loss: 0.3908 - acc: 0.7895 - val_loss: 0.5254 - val_acc: 0.7581\n",
      "Epoch 95/100\n",
      " - 0s - loss: 0.3945 - acc: 0.8016 - val_loss: 0.5557 - val_acc: 0.7903\n",
      "Epoch 96/100\n",
      " - 0s - loss: 0.3930 - acc: 0.7895 - val_loss: 0.5364 - val_acc: 0.7581\n"
     ]
    },
    {
     "name": "stdout",
     "output_type": "stream",
     "text": [
      "Epoch 97/100\n",
      " - 0s - loss: 0.3874 - acc: 0.7976 - val_loss: 0.5290 - val_acc: 0.7581\n",
      "Epoch 98/100\n",
      " - 0s - loss: 0.3916 - acc: 0.7935 - val_loss: 0.5345 - val_acc: 0.7742\n",
      "Epoch 99/100\n",
      " - 0s - loss: 0.3890 - acc: 0.8016 - val_loss: 0.5280 - val_acc: 0.6935\n",
      "Epoch 100/100\n",
      " - 0s - loss: 0.3991 - acc: 0.7814 - val_loss: 0.5311 - val_acc: 0.7419\n"
     ]
    }
   ],
   "source": [
    "#Train the model for a fixed number of epochs\n",
    "hist = ann_model.fit(X_train, y_train, epochs=100, batch_size=5, validation_split=0.2, verbose=2)"
   ]
  },
  {
   "cell_type": "code",
   "execution_count": 132,
   "metadata": {},
   "outputs": [
    {
     "name": "stdout",
     "output_type": "stream",
     "text": [
      "133/133 [==============================] - 0s 52us/step\n",
      "Test Loss: 0.51 Test Acc: 0.74\n"
     ]
    }
   ],
   "source": [
    "#y_test\n",
    "test_loss, test_acc = ann_model.evaluate(X_test, y_test)\n",
    "print('Test Loss: {:.2f} Test Acc: {:.2f}'.format(test_loss, test_acc))"
   ]
  },
  {
   "cell_type": "code",
   "execution_count": 133,
   "metadata": {},
   "outputs": [
    {
     "data": {
      "image/png": "[encoded data removed]",
      "text/plain": [
       "<Figure size 720x720 with 1 Axes>"
      ]
     },
     "metadata": {},
     "output_type": "display_data"
    }
   ],
   "source": [
    "#Plot the loss + Accuracy\n",
    "\n",
    "epochs = range(len(hist.history['acc']))\n",
    "acc = hist.history['acc']\n",
    "loss = hist.history['loss']\n",
    "                    \n",
    "val_acc = hist.history['val_acc']\n",
    "val_loss = hist.history['val_loss']\n",
    "                        \n",
    "plt.figure(figsize=(10,10))\n",
    "plt.plot(epochs, acc, c='blue', label='Accuracy')  \n",
    "plt.plot(epochs, val_acc, c='green', label='Validation Accuracy')\n",
    "plt.plot(epochs, loss, c='red', label='Loss')\n",
    "plt.plot(epochs, val_loss, c='magenta', label='Validation Loss') \n",
    "                        \n",
    "plt.title('Train/Validation Accuracy-Loss')\n",
    "plt.legend()\n",
    "plt.show()\n",
    "                        "
   ]
  },
  {
   "cell_type": "code",
   "execution_count": 134,
   "metadata": {},
   "outputs": [
    {
     "data": {
      "text/plain": [
       "((133, 1), (133, 1))"
      ]
     },
     "execution_count": 134,
     "metadata": {},
     "output_type": "execute_result"
    }
   ],
   "source": [
    "y_pred = ann_model.predict_classes(X_test)\n",
    "y_pred.shape, y_test.shape"
   ]
  },
  {
   "cell_type": "code",
   "execution_count": 137,
   "metadata": {},
   "outputs": [
    {
     "name": "stdout",
     "output_type": "stream",
     "text": [
      "TP: 49 TN: 50 FP:18 FN: 16\n"
     ]
    }
   ],
   "source": [
    "# For binary case: use ravel() to get the 4 values : tp, tn, fp, fn\n",
    "tp, fn, fp, tn = confusion_matrix(y_test, y_pred).ravel()\n",
    "print('TP: {} TN: {} FP:{} FN: {}'.format(tp, tn, fp, fn))"
   ]
  },
  {
   "cell_type": "code",
   "execution_count": 136,
   "metadata": {},
   "outputs": [
    {
     "data": {
      "text/plain": [
       "<matplotlib.axes._subplots.AxesSubplot at 0x1ebf8a3e438>"
      ]
     },
     "execution_count": 136,
     "metadata": {},
     "output_type": "execute_result"
    },
    {
     "data": {
      "image/png": "[encoded data removed]",
      "text/plain": [
       "<Figure size 432x288 with 2 Axes>"
      ]
     },
     "metadata": {},
     "output_type": "display_data"
    }
   ],
   "source": [
    "# Confusion Matrix\n",
    "cm = confusion_matrix(y_test, y_pred)\n",
    "#y_test[:5], y_pred[:5]\n",
    "\n",
    "sns.heatmap(cm, annot=True,cmap=\"YlGnBu\")"
   ]
  },
  {
   "cell_type": "code",
   "execution_count": 138,
   "metadata": {},
   "outputs": [
    {
     "name": "stdout",
     "output_type": "stream",
     "text": [
      "(133, 1)\n"
     ]
    },
    {
     "data": {
      "text/plain": [
       "array([[0.9820944 ],\n",
       "       [0.9820678 ],\n",
       "       [0.565816  ],\n",
       "       [0.48134807],\n",
       "       [0.6466745 ]], dtype=float32)"
      ]
     },
     "execution_count": 138,
     "metadata": {},
     "output_type": "execute_result"
    }
   ],
   "source": [
    "#probabilities\n",
    "y_pred_prob = ann_model.predict_proba(X_test)\n",
    "\n",
    "print(y_pred_prob.shape)\n",
    "#Note: the second dimension of the shape is 1 instead of 2 \n",
    "#(as keras.predict_proba() is only returning the probability of \n",
    "# the instance belonging to class 1)\n",
    "y_pred_prob[:5]"
   ]
  },
  {
   "cell_type": "code",
   "execution_count": 139,
   "metadata": {},
   "outputs": [
    {
     "data": {
      "text/plain": [
       "(array([0.        , 0.        , 0.        , 0.01538462, 0.01538462,\n",
       "        0.03076923, 0.03076923, 0.04615385, 0.04615385, 0.06153846,\n",
       "        0.06153846, 0.07692308, 0.07692308, 0.09230769, 0.09230769,\n",
       "        0.12307692, 0.12307692, 0.15384615, 0.15384615, 0.2       ,\n",
       "        0.2       , 0.26153846, 0.26153846, 0.29230769, 0.29230769,\n",
       "        0.32307692, 0.32307692, 0.4       , 0.4       , 0.41538462,\n",
       "        0.41538462, 0.47692308, 0.47692308, 0.66153846, 0.66153846,\n",
       "        0.67692308, 0.67692308, 0.69230769, 0.69230769, 0.72307692,\n",
       "        0.72307692, 0.73846154, 0.73846154, 0.83076923, 0.83076923,\n",
       "        1.        ]),\n",
       " array([0.        , 0.01470588, 0.10294118, 0.10294118, 0.27941176,\n",
       "        0.27941176, 0.32352941, 0.32352941, 0.36764706, 0.36764706,\n",
       "        0.5       , 0.5       , 0.54411765, 0.54411765, 0.67647059,\n",
       "        0.67647059, 0.70588235, 0.70588235, 0.72058824, 0.72058824,\n",
       "        0.73529412, 0.73529412, 0.76470588, 0.76470588, 0.79411765,\n",
       "        0.79411765, 0.83823529, 0.83823529, 0.86764706, 0.86764706,\n",
       "        0.88235294, 0.88235294, 0.89705882, 0.89705882, 0.91176471,\n",
       "        0.91176471, 0.94117647, 0.94117647, 0.95588235, 0.95588235,\n",
       "        0.97058824, 0.97058824, 0.98529412, 0.98529412, 1.        ,\n",
       "        1.        ]),\n",
       " array([1.9989972 , 0.9989973 , 0.9851414 , 0.98340154, 0.95637536,\n",
       "        0.9506544 , 0.92423624, 0.91370416, 0.88300896, 0.8809209 ,\n",
       "        0.8094486 , 0.8092551 , 0.7403945 , 0.7295968 , 0.6380032 ,\n",
       "        0.6235274 , 0.61171603, 0.59495735, 0.5779841 , 0.5591711 ,\n",
       "        0.51069087, 0.4910257 , 0.48181826, 0.4697866 , 0.45073652,\n",
       "        0.42654395, 0.40963292, 0.3764243 , 0.36328065, 0.3602689 ,\n",
       "        0.35757923, 0.32183236, 0.31701052, 0.20155787, 0.19899386,\n",
       "        0.18059114, 0.17737392, 0.16933721, 0.16685241, 0.14646989,\n",
       "        0.13986853, 0.13898641, 0.13327223, 0.11143184, 0.10991201,\n",
       "        0.01264283], dtype=float32),\n",
       " 0.8323529411764706)"
      ]
     },
     "execution_count": 139,
     "metadata": {},
     "output_type": "execute_result"
    }
   ],
   "source": [
    "from sklearn.metrics import roc_curve, auc\n",
    "\n",
    "#note: using the probability to calculate fpr,tpr,threshold\n",
    "fpr, tpr, threshold = roc_curve(y_test, y_pred_prob)\n",
    "auc_val = auc(fpr, tpr)\n",
    "fpr, tpr, threshold, auc_val"
   ]
  },
  {
   "cell_type": "code",
   "execution_count": 140,
   "metadata": {},
   "outputs": [
    {
     "data": {
      "image/png": "[encoded data removed]",
      "text/plain": [
       "<Figure size 720x432 with 1 Axes>"
      ]
     },
     "metadata": {},
     "output_type": "display_data"
    }
   ],
   "source": [
    "plt.figure(figsize=(10,6))\n",
    "plt.plot(fpr, tpr, c='blue', label='AUC={:,.3f}'.format(auc_val))\n",
    "plt.plot((0,1), (0,1), 'k--')\n",
    "for x, y, thresh in zip(fpr[::5], tpr[::5], threshold[::5]):\n",
    "    plt.annotate(np.round(thresh,2), (x, y-0.04))\n",
    "rnd_idx = 11\n",
    "plt.annotate('The TPR, FPR at this point are for threshold: {}'.format(np.round(threshold[rnd_idx], 2)),\n",
    "xy=(fpr[rnd_idx], tpr[rnd_idx]), xytext=(fpr[rnd_idx]+0.2, tpr[rnd_idx]-0.25),\n",
    "arrowprops=dict(color='red', lw=2, arrowstyle='->'))\n",
    "\n",
    "plt.title('ROC Curve')\n",
    "plt.xlabel('FPR')\n",
    "plt.ylabel('TPR')\n",
    "plt.legend()\n",
    "plt.show()"
   ]
  },
  {
   "cell_type": "code",
   "execution_count": null,
   "metadata": {},
   "outputs": [],
   "source": []
  }
 ],
 "metadata": {
  "kernelspec": {
   "display_name": "Python 3",
   "language": "python",
   "name": "python3"
  },
  "language_info": {
   "codemirror_mode": {
    "name": "ipython",
    "version": 3
   },
   "file_extension": ".py",
   "mimetype": "text/x-python",
   "name": "python",
   "nbconvert_exporter": "python",
   "pygments_lexer": "ipython3",
   "version": "3.6.8"
  }
 },
 "nbformat": 4,
 "nbformat_minor": 2
}
